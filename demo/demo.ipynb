{
 "cells": [
  {
   "attachments": {},
   "cell_type": "markdown",
   "metadata": {},
   "source": [
    "# Walkthrough of bfibundle \n",
    "\n",
    "Below I will go through how to use each of the modules from bfi bundle to query the database or find asociated literature. \n",
    "\n",
    "Starting with BfiSource, we can get a list of all partners available for fungi and bacteria:"
   ]
  },
  {
   "cell_type": "code",
   "execution_count": 1,
   "metadata": {},
   "outputs": [
    {
     "name": "stdout",
     "output_type": "stream",
     "text": [
      "Abiotrophia\n",
      "Absidia\n"
     ]
    }
   ],
   "source": [
    "from bfibundle import BfiSource\n",
    "\n",
    "#get list of all bacterial partners in desribed bfi pairs\n",
    "bacteria_list = BfiSource.bacterial_partners()\n",
    "\n",
    "#get list of all fungal partners in desribed bfi pairs\n",
    "fungal_list = BfiSource.fungal_partners()\n",
    "\n",
    "\n",
    "#print first bacteria in list:\n",
    "print(bacteria_list[0])\n",
    "\n",
    "#print first fungus in list:\n",
    "print(fungal_list[0])"
   ]
  },
  {
   "attachments": {},
   "cell_type": "markdown",
   "metadata": {},
   "source": [
    "### Find records by searching for pair\n",
    "\n",
    "We can look up partners by searching for bacteria or fungi in the partnerhship. This will return the corresponding records that have this partner. If the taxa is not a described pair, nothing will be returned. "
   ]
  },
  {
   "cell_type": "code",
   "execution_count": 2,
   "metadata": {},
   "outputs": [
    {
     "name": "stdout",
     "output_type": "stream",
     "text": [
      "First record containing corresponding taxa\n",
      "{'Bacterial_associate_taxa': 'Agrococcus', 'Fungal_host_taxa': 'Fusarium', 'Source': 'Diversity, Specificity, and Phylogenetic Relationships of Endohyphal Bacteria in Fungi That Inhabit Tropical Seeds and Leaves', 'Link': 'https://doi.org/10.3389/fevo.2016.00116', 'CreatedAtTime': '2023-03-04T16:08:33.586049+00:00', 'id': 'bfisrc-f95973f4a8094f60a601eaeab807535f', 'SFA_BFI_version': 'v1.0.0'}\n",
      "{'Bacterial_associate_taxa': 'Acinetobacter', 'Fungal_host_taxa': 'Fusarium', 'Source': 'Diversity, Specificity, and Phylogenetic Relationships of Endohyphal Bacteria in Fungi That Inhabit Tropical Seeds and Leaves', 'Link': 'https://doi.org/10.3389/fevo.2016.00116', 'CreatedAtTime': '2023-03-04T16:08:33.586049+00:00', 'id': 'bfisrc-fcbe89f530934b5fb8c928bb5b4b61a7', 'SFA_BFI_version': 'v1.0.0'}\n",
      "-----------------\n",
      "There will be records equal to the amount that Agrococcus or Fusarium is present as a partner\n",
      "Number of records containing Agroccus 36\n",
      "Number of records containing Fusarium 215\n"
     ]
    }
   ],
   "source": [
    "\n",
    "#find all records  in the db that have bacteria Agrococcus as a partner\n",
    "bacterial_partner_list = BfiSource.bfi_bacterial_partner('Agrococcus')\n",
    "\n",
    "#find all records in teh db that have fungus Fusarium as a partner\n",
    "fungal_partner_list = BfiSource.bfi_fungal_partner('Fusarium')\n",
    "\n",
    "\n",
    "#print first record in each\n",
    "print('First record containing corresponding taxa')\n",
    "print(bacterial_partner_list[0])\n",
    "print(fungal_partner_list[0])\n",
    "print('-----------------')\n",
    "print('There will be records equal to the amount that Agrococcus or Fusarium is present as a partner')\n",
    "print(f'Number of records containing Agroccus {len(bacterial_partner_list)}')\n",
    "print(f'Number of records containing Fusarium {len(fungal_partner_list)}')"
   ]
  },
  {
   "attachments": {},
   "cell_type": "markdown",
   "metadata": {},
   "source": [
    "\n",
    "We can also find a record by searching by for a bfi partner using the bfi_partners method:"
   ]
  },
  {
   "cell_type": "code",
   "execution_count": 3,
   "metadata": {},
   "outputs": [
    {
     "name": "stdout",
     "output_type": "stream",
     "text": [
      "[{'Bacterial_associate_taxa': 'Agrococcus', 'Fungal_host_taxa': 'Fusarium', 'Source': 'Diversity, Specificity, and Phylogenetic Relationships of Endohyphal Bacteria in Fungi That Inhabit Tropical Seeds and Leaves', 'Link': 'https://doi.org/10.3389/fevo.2016.00116', 'CreatedAtTime': '2023-03-04T16:08:33.586049+00:00', 'id': 'bfisrc-f95973f4a8094f60a601eaeab807535f', 'SFA_BFI_version': 'v1.0.0'}]\n"
     ]
    }
   ],
   "source": [
    "partners_list = BfiSource.bfi_partners('Agrococcus', 'Fusarium')\n",
    "\n",
    "print(partners_list)"
   ]
  },
  {
   "attachments": {},
   "cell_type": "markdown",
   "metadata": {},
   "source": [
    "\n",
    "A record can also be found by searching it by its unique id with the ```by_id``` method:"
   ]
  },
  {
   "cell_type": "code",
   "execution_count": 4,
   "metadata": {},
   "outputs": [
    {
     "name": "stdout",
     "output_type": "stream",
     "text": [
      "[{'Bacterial_associate_taxa': 'Agrococcus', 'Fungal_host_taxa': 'Fusarium', 'Source': 'Diversity, Specificity, and Phylogenetic Relationships of Endohyphal Bacteria in Fungi That Inhabit Tropical Seeds and Leaves', 'Link': 'https://doi.org/10.3389/fevo.2016.00116', 'CreatedAtTime': '2023-03-04T16:08:33.586049+00:00', 'id': 'bfisrc-f95973f4a8094f60a601eaeab807535f', 'SFA_BFI_version': 'v1.0.0'}]\n"
     ]
    }
   ],
   "source": [
    "\n",
    "#find record by id\n",
    "bfi_record_by_id = BfiSource.by_id('bfisrc-f95973f4a8094f60a601eaeab807535f')\n",
    "\n",
    "print(bfi_record_by_id)"
   ]
  },
  {
   "attachments": {},
   "cell_type": "markdown",
   "metadata": {},
   "source": [
    "## Taxonomy \n",
    "We can also look at the taxonomy rollup found in the db using the BfiTaxonomy class. \n",
    "Search can be done from scratch or from mapping the lineage using information from BfiSource.\n",
    "\n",
    "Explore from scratch:"
   ]
  },
  {
   "cell_type": "code",
   "execution_count": 5,
   "metadata": {},
   "outputs": [
    {
     "name": "stdout",
     "output_type": "stream",
     "text": [
      "Bacterial taxonomy record for Agroccus\n",
      "{'Fungal_host_taxa': 'Fusarium', 'Bacterial_associate_taxa': 'Agrococcus', 'Superkingdom': 'Bacteria', 'Phylum': 'Actinobacteria', 'Class': 'Actinomycetia', 'Order': 'Micrococcales', 'Family': 'Microbacteriaceae', 'Genus': 'Agrococcus', 'Informed_by': 'bfisrc-f95973f4a8094f60a601eaeab807535f'}\n",
      "Fungal taxonomy record for Fusarium\n",
      "{'Fungal_host_taxa': 'Fusarium', 'Bacterial_associate_taxa': 'Acinetobacter', 'Superkingdom': 'Eukaryota', 'Phylum': 'Ascomycota', 'Class': 'Sordariomycetes', 'Order': 'Hypocreales', 'Family': 'Nectriaceae', 'Genus': 'Fusarium', 'Informed_by': 'bfisrc-fcbe89f530934b5fb8c928bb5b4b61a7'}\n"
     ]
    }
   ],
   "source": [
    "from bfibundle import BfiTaxonomy\n",
    "\n",
    "#look up by genus Agrococcus using the bacteria method \n",
    "#this method takes arguments (taxa level, taxa name)\n",
    "bac_rec =  BfiTaxonomy.bacteria('genus','Agrococcus')\n",
    "\n",
    "#the same goes for fungi\n",
    "fun_rec =  BfiTaxonomy.fungi('genus','Fusarium')\n",
    "\n",
    "print('Bacterial taxonomy record for Agroccus')\n",
    "print(bac_rec[0])\n",
    "print('Fungal taxonomy record for Fusarium')\n",
    "print(fun_rec[0])"
   ]
  },
  {
   "attachments": {},
   "cell_type": "markdown",
   "metadata": {},
   "source": [
    "We can also map taxonomy back to it's source using the Id:"
   ]
  },
  {
   "cell_type": "code",
   "execution_count": 6,
   "metadata": {},
   "outputs": [],
   "source": [
    "\n",
    "#map bacterial taxonomy by id\n",
    "bac_tax_rec = BfiTaxonomy.map_bacteria('bfisrc-f95973f4a8094f60a601eaeab807535f')\n",
    "        \n",
    "#map fungal taxonomy by id\n",
    "fun_tax_rec = BfiTaxonomy.map_fungi('bfisrc-f95973f4a8094f60a601eaeab807535f')\n",
    "        \n",
    "#get both fungal and bacterial taxonomy by id\n",
    "tax_rec = BfiTaxonomy.map_taxa('bfisrc-f95973f4a8094f60a601eaeab807535f')"
   ]
  },
  {
   "attachments": {},
   "cell_type": "markdown",
   "metadata": {},
   "source": [
    "# BFI Literature \n",
    "\n",
    "Finally we can take a look at some literature using a few methods. "
   ]
  },
  {
   "attachments": {},
   "cell_type": "markdown",
   "metadata": {},
   "source": [
    "The most relavent to us using the ```Link``` field we can retrieve the information to get some publication metadata with the ```doi_search``` method. "
   ]
  },
  {
   "cell_type": "code",
   "execution_count": 7,
   "metadata": {},
   "outputs": [
    {
     "name": "stdout",
     "output_type": "stream",
     "text": [
      "{'indexed': {'date-parts': [[2023, 2, 2]], 'date-time': '2023-02-02T06:27:01Z', 'timestamp': 1675319221483}, 'reference-count': 44, 'publisher': 'Oxford University Press (OUP)', 'issue': '2', 'content-domain': {'domain': [], 'crossmark-restriction': False}, 'short-container-title': ['FEMS Microbiol Lett'], 'published-print': {'date-parts': [[2013, 11]]}, 'DOI': '10.1111/1574-6968.12287', 'type': 'journal-article', 'created': {'date-parts': [[2013, 10, 11]], 'date-time': '2013-10-11T21:46:52Z', 'timestamp': 1381528012000}, 'page': '157-166', 'source': 'Crossref', 'is-referenced-by-count': 43, 'title': ['Isolation of oxalotrophic bacteria able to disperse on fungal mycelium'], 'prefix': '10.1093', 'volume': '348', 'author': [{'given': 'Daniel', 'family': 'Bravo', 'sequence': 'first', 'affiliation': [{'name': 'Laboratory of Microbiology; Institute of Biology; University of Neuchâtel; Neuchâtel Switzerland'}]}, {'given': 'Guillaume', 'family': 'Cailleau', 'sequence': 'additional', 'affiliation': [{'name': 'Biogeosciences Laboratory; Institute of Earth Sciences (ISTE); University of Lausanne; Lausanne Switzerland'}]}, {'given': 'Saskia', 'family': 'Bindschedler', 'sequence': 'additional', 'affiliation': [{'name': 'Laboratory of Microbiology; Institute of Biology; University of Neuchâtel; Neuchâtel Switzerland'}, {'name': 'Department of Environmental Microbiology; Helmholtz Centre for Environmental Research - UFZ; Leipzig Germany'}]}, {'given': 'Anaele', 'family': 'Simon', 'sequence': 'additional', 'affiliation': [{'name': 'Laboratory of Microbiology; Institute of Biology; University of Neuchâtel; Neuchâtel Switzerland'}]}, {'given': 'Daniel', 'family': 'Job', 'sequence': 'additional', 'affiliation': [{'name': 'Laboratory of Microbiology; Institute of Biology; University of Neuchâtel; Neuchâtel Switzerland'}]}, {'given': 'Eric', 'family': 'Verrecchia', 'sequence': 'additional', 'affiliation': [{'name': 'Biogeosciences Laboratory; Institute of Earth Sciences (ISTE); University of Lausanne; Lausanne Switzerland'}]}, {'given': 'Pilar', 'family': 'Junier', 'sequence': 'additional', 'affiliation': [{'name': 'Laboratory of Microbiology; Institute of Biology; University of Neuchâtel; Neuchâtel Switzerland'}]}], 'member': '286', 'published-online': {'date-parts': [[2013, 10, 10]]}, 'reference': [{'key': '10.1111/1574-6968.12287-BIB0001|fml12287-cit-0001', 'doi-asserted-by': 'crossref', 'first-page': '3389', 'DOI': '10.1093/nar/25.17.3389', 'article-title': 'Gapped BLAST and PSI-BLAST: a new generation of protein database search programs', 'volume': '25', 'author': 'Altschul', 'year': '1997', 'journal-title': 'Nucleic Acids Res'}, {'key': '10.1111/1574-6968.12287-BIB0002|fml12287-cit-0002', 'doi-asserted-by': 'crossref', 'first-page': '675', 'DOI': '10.1099/ijs.0.000588-0', 'article-title': 'Lysobacter oryzae sp. nov., isolated from the rhizosphere of rice (Oryza sativa L.)', 'volume': '59', 'author': 'Aslam', 'year': '2009', 'journal-title': 'Int J Syst Evol Microbiol'}, {'key': '10.1111/1574-6968.12287-BIB0003|fml12287-cit-0003', 'doi-asserted-by': 'crossref', 'first-page': '795', 'DOI': '10.1016/j.femsre.2004.11.005', 'article-title': 'Living in a fungal world: impact of fungi on soil bacterial niche development', 'volume': '29', 'author': 'Boer', 'year': '2005', 'journal-title': 'FEMS Microbiol Rev'}, {'key': '10.1111/1574-6968.12287-BIB0004|fml12287-cit-0004', 'doi-asserted-by': 'crossref', 'first-page': '363', 'DOI': '10.1146/annurev.micro.091208.073504', 'article-title': 'Plants, mycorrhizal fungi, and bacteria: a network of interactions', 'volume': '63', 'author': 'Bonfante', 'year': '2009', 'journal-title': 'Annu Rev Microbiol'}, {'key': '10.1111/1574-6968.12287-BIB0005|fml12287-cit-0005', 'doi-asserted-by': 'crossref', 'first-page': '366', 'DOI': '10.1007/s00114-002-0340-0', 'article-title': 'Is the contribution of bacteria to terrestrial carbon budget greatly underestimated?', 'volume': '89', 'author': 'Braissant', 'year': '2002', 'journal-title': 'Naturwissenschaften'}, {'key': '10.1111/1574-6968.12287-BIB0006|fml12287-cit-0006', 'doi-asserted-by': 'crossref', 'first-page': '59', 'DOI': '10.1111/j.1472-4677.2004.00019.x', 'article-title': 'Biologically induced mineralization in the tree Milicia excelsa (Moraceae): its causes and consequences to the environment', 'volume': '2', 'author': 'Braissant', 'year': '2004', 'journal-title': 'Geobiology'}, {'key': '10.1111/1574-6968.12287-BIB0007|fml12287-cit-0007', 'first-page': '329', 'article-title': 'Analysis of internal transcribed spacer (ITS) regions of rRNA genes in fungal communities in a southeastern US salt marsh', 'volume': '43', 'author': 'Buchan', 'year': '2002', 'journal-title': 'Ecology'}, {'key': '10.1111/1574-6968.12287-BIB0008|fml12287-cit-0008', 'doi-asserted-by': 'crossref', 'first-page': '191', 'DOI': '10.1007/s00114-004-0512-1', 'article-title': 'Biomineralization in plants as a long-term carbon sink', 'volume': '91', 'author': 'Cailleau', 'year': '2004', 'journal-title': 'Naturwissenschaften'}, {'key': '10.1111/1574-6968.12287-BIB0009|fml12287-cit-0009', 'doi-asserted-by': 'crossref', 'first-page': '1755', 'DOI': '10.5194/bg-8-1755-2011', 'article-title': 'Turning sunlight into stone: the oxalate-carbonate pathway in a tropical tree ecosystem', 'volume': '8', 'author': 'Cailleau', 'year': '2011', 'journal-title': 'Biogeosciences'}, {'key': '10.1111/1574-6968.12287-BIB0010|fml12287-cit-0010', 'doi-asserted-by': 'crossref', 'first-page': '367', 'DOI': '10.1099/00207713-28-3-367', 'article-title': 'Lysobacter, a new genus of nonfruiting, gliding bacteria with a high base ratio', 'volume': '28', 'author': 'Christensen', 'year': '1978', 'journal-title': 'Int J Syst Bacteriol'}, {'key': '10.1111/1574-6968.12287-BIB0011|fml12287-cit-0011', 'doi-asserted-by': 'crossref', 'first-page': '14369', 'DOI': '10.1073/pnas.1008392107', 'article-title': 'Hydration-controlled bacterial motility and dispersal on surfaces', 'volume': '107', 'author': 'Dechesne', 'year': '2010', 'journal-title': 'PNAS'}, {'key': '10.1111/1574-6968.12287-BIB0012|fml12287-cit-0012', 'doi-asserted-by': 'crossref', 'first-page': '181', 'DOI': '10.1111/j.1574-6941.2007.00425.x', 'article-title': 'Impact of white-rot fungi on numbers and community composition of bacteria colonizing beech wood from forest soil', 'volume': '63', 'author': 'Folman', 'year': '2008', 'journal-title': 'FEMS Microbiol Ecol'}, {'key': '10.1111/1574-6968.12287-BIB0013|fml12287-cit-0013', 'doi-asserted-by': 'crossref', 'first-page': '142', 'DOI': '10.1111/j.1751-7915.2011.00309.x', 'article-title': 'Use of mycelia as paths for the isolation of contaminant-degrading bacteria from soil', 'volume': '5', 'author': 'Furuno', 'year': '2012', 'journal-title': 'Microb Biotechnol'}, {'key': '10.1111/1574-6968.12287-BIB0014|fml12287-cit-0014', 'doi-asserted-by': 'crossref', 'first-page': '1855', 'DOI': '10.1099/ijs.0.65468-0', 'article-title': 'Cohnella phaseoli sp. nov., isolated from root nodules of Phaseolus coccineus in Spain, and emended description of the genus Cohnella', 'volume': '58', 'author': 'García-Fraile', 'year': '2008', 'journal-title': 'Int J Syst Evol Microbiol'}, {'key': '10.1111/1574-6968.12287-BIB0015|fml12287-cit-0015', 'doi-asserted-by': 'crossref', 'first-page': '1252', 'DOI': '10.1126/science.198.4323.1252', 'article-title': 'Calcium oxalate: occurrence in soils and effect on nutrient and geochemical cycles', 'volume': '198', 'author': 'Graustein', 'year': '1977', 'journal-title': 'Science'}, {'key': '10.1111/1574-6968.12287-BIB0016|fml12287-cit-0016', 'doi-asserted-by': 'crossref', 'first-page': '803', 'DOI': '10.1016/j.ibiod.2011.02.012', 'article-title': 'Experimental calcium-oxalate crystal production and dissolution by selected wood-rot fungi', 'volume': '65', 'author': 'Guggiari', 'year': '2011', 'journal-title': 'Int Biodeterior Biodegradation'}, {'key': '10.1111/1574-6968.12287-BIB0017|fml12287-cit-0017', 'volume-title': 'Atlas of Clinical Fungi', 'author': 'Hoog', 'year': '1996'}, {'key': '10.1111/1574-6968.12287-BIB0018|fml12287-cit-0018', 'doi-asserted-by': 'crossref', 'first-page': '124', 'DOI': '10.1186/1471-2180-9-124', 'article-title': 'Coordinated surface activities in Variovorax paradoxus EPS', 'volume': '9', 'author': 'Jamieson', 'year': '2009', 'journal-title': 'BMC Microbiol'}, {'key': '10.1111/1574-6968.12287-BIB0019|fml12287-cit-0019', 'doi-asserted-by': 'crossref', 'first-page': '1', 'DOI': '10.1016/j.femsec.2003.11.012', 'article-title': 'Microbial interactions in the mycorrhizosphere and their significance for sustainable agriculture', 'volume': '48', 'author': 'Johansson', 'year': '2004', 'journal-title': 'FEMS Microbiol Ecol'}, {'key': '10.1111/1574-6968.12287-BIB0020|fml12287-cit-0020', 'doi-asserted-by': 'crossref', 'first-page': '120', 'DOI': '10.1016/j.mimet.2008.09.020', 'article-title': 'Use of the frc gene as a molecular marker to characterize oxalate-oxidizing bacterial abundance and diversity structure in soil', 'volume': '76', 'author': 'Khammar', 'year': '2009', 'journal-title': 'J Microbiol Methods'}, {'key': '10.1111/1574-6968.12287-BIB0021|fml12287-cit-0021', 'doi-asserted-by': 'crossref', 'first-page': '4640', 'DOI': '10.1021/es047979z', 'article-title': 'Taking the fungal highway: mobilization of pollutant-degrading bacteria by fungi', 'volume': '39', 'author': 'Kohlmeier', 'year': '2005', 'journal-title': 'Environ Sci Technol'}, {'key': '10.1111/1574-6968.12287-BIB0022|fml12287-cit-0022', 'doi-asserted-by': 'crossref', 'first-page': '3', 'DOI': '10.1007/BF02143532', 'article-title': 'Oxalate synthesis from soil bicarbonate by the mycorrhizal fungus Paxillus involutus', 'volume': '110', 'author': 'Lapeyrie', 'year': '1988', 'journal-title': 'Plant Soil'}, {'key': '10.1111/1574-6968.12287-BIB0023|fml12287-cit-0023', 'doi-asserted-by': 'crossref', 'first-page': '191', 'DOI': '10.1007/BF02539153', 'article-title': 'Potential risks of gene amplification by PCR as determined by 16S rDNA analysis of a mixed-culture of strict barophilic bacteria', 'volume': '21', 'author': 'Liesack', 'year': '1991', 'journal-title': 'Microb Ecol'}, {'key': '10.1111/1574-6968.12287-BIB0024|fml12287-cit-0024', 'first-page': '366', 'article-title': 'Mycorrhizal interactions with the rhizosphere microflora: the mycorrhizosphere effect', 'volume': '78', 'author': 'Linderman', 'year': '1988', 'journal-title': 'Phytopathology'}, {'key': '10.1111/1574-6968.12287-BIB0025|fml12287-cit-0025', 'doi-asserted-by': 'crossref', 'first-page': '343', 'volume-title': 'The Rhizosphere and Plant Growth', 'author': 'Linderman', 'year': '1991', 'DOI': '10.1007/978-94-011-3336-4_73'}, {'key': '10.1111/1574-6968.12287-BIB0026|fml12287-cit-0026', 'doi-asserted-by': 'crossref', 'first-page': '2960', 'DOI': '10.1111/j.1462-2920.2012.02862.x', 'article-title': 'Fungi, bacteria and soil pH: the oxalate-carbonate pathway as a model for metabolic interaction', 'volume': '14', 'author': 'Martin', 'year': '2012', 'journal-title': 'Environ Microbiol'}, {'key': '10.1111/1574-6968.12287-BIB0027|fml12287-cit-0027', 'doi-asserted-by': 'crossref', 'first-page': '8005', 'DOI': '10.1128/JB.00566-07', 'article-title': 'Motility and chemotaxis in Agrobacterium tumefaciens surface attachment and biofilm formation', 'volume': '189', 'author': 'Merritt', 'year': '2007', 'journal-title': 'J Bacteriol'}, {'key': '10.1111/1574-6968.12287-BIB0028|fml12287-cit-0028', 'first-page': '93', 'article-title': 'Calcium oxalate decomposing microorganisms; a microbial group of the rhizosphere of forest plants', 'volume': '40', 'author': 'Messini', 'year': '1990', 'journal-title': 'Ann Microbiol'}, {'key': '10.1111/1574-6968.12287-BIB0029|fml12287-cit-0029', 'doi-asserted-by': 'crossref', 'first-page': '169', 'DOI': '10.1111/j.1574-6941.2009.00807.x', 'article-title': 'Mechanisms that promote bacterial fitness in fungal-affected soil microhabitats', 'volume': '71', 'author': 'Nazir', 'year': '2010', 'journal-title': 'FEMS Microbiol Ecol'}, {'key': '10.1111/1574-6968.12287-BIB0030|fml12287-cit-0030', 'doi-asserted-by': 'crossref', 'first-page': '514', 'DOI': '10.1038/nrmicro2163', 'article-title': 'The versatility and adaptation of bacteria from the genus Stenotrophomonas', 'volume': '7', 'author': 'Ryan', 'year': '2009', 'journal-title': 'Nat Rev Microbiol'}, {'key': '10.1111/1574-6968.12287-BIB0031|fml12287-cit-0031', 'doi-asserted-by': 'crossref', 'first-page': '399', 'DOI': '10.1016/S0923-2508(03)00112-8', 'article-title': 'Oxalotrophic bacteria', 'volume': '154', 'author': 'Sahin', 'year': '2003', 'journal-title': 'Res Microbiol'}, {'key': '10.1111/1574-6968.12287-BIB0032|fml12287-cit-0032', 'doi-asserted-by': 'crossref', 'first-page': '752', 'DOI': '10.1038/ismej.2010.5', 'article-title': 'Characterisation of microbial communities colonising the hyphal surfaces of arbuscular mycorrhizal fungi', 'volume': '4', 'author': 'Scheublin', 'year': '2010', 'journal-title': 'ISME J'}, {'key': '10.1111/1574-6968.12287-BIB0033|fml12287-cit-0033', 'doi-asserted-by': 'crossref', 'first-page': '1535', 'DOI': '10.1094/MPMI-20-12-1535', 'article-title': 'Oxalate-degrading bacteria can protect Arabidopsis thaliana and crop plants against Botrytis cinerea', 'volume': '20', 'author': 'Schoonbeek', 'year': '2007', 'journal-title': 'Mol Plant Microbe Interact'}, {'key': '10.1111/1574-6968.12287-BIB0034|fml12287-cit-0034', 'doi-asserted-by': 'crossref', 'first-page': '159', 'DOI': '10.1099/00221287-43-2-159', 'article-title': 'The aerobic pseudomonads: a taxonomic study', 'volume': '43', 'author': 'Stanier', 'year': '1966', 'journal-title': 'J Gen Microbiol'}, {'key': '10.1111/1574-6968.12287-BIB0035|fml12287-cit-0035', 'doi-asserted-by': 'crossref', 'first-page': '176', 'DOI': '10.1016/j.abb.2004.08.032', 'article-title': 'The enzymes of oxalate metabolism: unexpected structures and mechanisms', 'volume': '433', 'author': 'Svedruzic', 'year': '2005', 'journal-title': 'Arch Biochem Biophys'}, {'key': '10.1111/1574-6968.12287-BIB0036|fml12287-cit-0036', 'first-page': '91', 'article-title': \"Isolement, caractérisation et essai d'identification de bactéries capables d'utiliser l'oxalate comme seule source de carbon et d'énergie\", 'volume': '103', 'author': 'Tamer', 'year': '1980', 'journal-title': 'Bull Soc Neuchatel Sci Nat'}, {'key': '10.1111/1574-6968.12287-BIB0037|fml12287-cit-0037', 'doi-asserted-by': 'crossref', 'first-page': '7079', 'DOI': '10.1128/AEM.00325-09', 'article-title': 'Calcium oxalate biomineralization by Piloderma fallax in response to various levels of calcium and phosphorus', 'volume': '75', 'author': 'Tuason', 'year': '2009', 'journal-title': 'Appl Environ Microbiol'}, {'key': '10.1111/1574-6968.12287-BIB0038|fml12287-cit-0038', 'doi-asserted-by': 'crossref', 'first-page': '289', 'volume-title': 'Fungi in Biogeochemical Cycles', 'author': 'Verrecchia', 'year': '2006', 'DOI': '10.1017/CBO9780511550522.013'}, {'key': '10.1111/1574-6968.12287-BIB0039|fml12287-cit-0039', 'doi-asserted-by': 'crossref', 'first-page': '2820', 'DOI': '10.1128/AEM.02110-08', 'article-title': 'Migratory response of soil bacteria to Lyophyllum sp. strain Karsten in soil microcosms', 'volume': '75', 'author': 'Warmink', 'year': '2009', 'journal-title': 'Appl Environ Microbiol'}, {'key': '10.1111/1574-6968.12287-BIB0040|fml12287-cit-0040', 'doi-asserted-by': 'crossref', 'first-page': '68', 'DOI': '10.1016/j.enzmictec.2005.01.032', 'article-title': 'Purification and characterization of NAD-dependent formate dehydrogenase from the white-rot fungus Ceriporiopsis subvermispora and a possible role of the enzyme in oxalate metabolism', 'volume': '37', 'author': 'Watanabe', 'year': '2005', 'journal-title': 'Enzyme Microb Technol'}, {'key': '10.1111/1574-6968.12287-BIB0041|fml12287-cit-0041', 'first-page': '315', 'volume-title': 'PCR Protocols a Guide to Methods and Applications', 'author': 'White', 'year': '1990'}, {'key': '10.1111/1574-6968.12287-BIB0042|fml12287-cit-0042', 'doi-asserted-by': 'crossref', 'first-page': '500', 'DOI': '10.1021/es061407s', 'article-title': 'Effect of fungal hyphae on the access of bacteria to phenanthrene in soil', 'volume': '41', 'author': 'Wick', 'year': '2007', 'journal-title': 'Environ Sci Technol'}, {'key': '10.1111/1574-6968.12287-BIB0043|fml12287-cit-0043', 'doi-asserted-by': 'crossref', 'first-page': '215', 'DOI': '10.1016/0038-0717(76)90006-7', 'article-title': 'Bacterial movement at high matric potentials-I. In artificial and natural soils', 'volume': '8', 'author': 'Wong', 'year': '1976', 'journal-title': 'Soil Biol Biochem'}, {'key': '10.1111/1574-6968.12287-BIB0044|fml12287-cit-0044', 'doi-asserted-by': 'crossref', 'first-page': '85', 'DOI': '10.1016/S0960-9822(99)80019-0', 'article-title': 'How a fungus escapes the water to grow into the air', 'volume': '9', 'author': 'Wösten', 'year': '1999', 'journal-title': 'Curr Biol'}], 'container-title': ['FEMS Microbiology Letters'], 'original-title': [], 'language': 'en', 'link': [{'URL': 'http://academic.oup.com/femsle/article-pdf/348/2/157/19434835/348-2-157.pdf', 'content-type': 'unspecified', 'content-version': 'vor', 'intended-application': 'similarity-checking'}], 'deposited': {'date-parts': [[2017, 8, 23]], 'date-time': '2017-08-23T09:03:26Z', 'timestamp': 1503479006000}, 'score': 1, 'resource': {'primary': {'URL': 'https://academic.oup.com/femsle/article-lookup/doi/10.1111/1574-6968.12287'}}, 'subtitle': [], 'short-title': [], 'issued': {'date-parts': [[2013, 10, 10]]}, 'references-count': 44, 'journal-issue': {'issue': '2', 'published-print': {'date-parts': [[2013, 11]]}}, 'URL': 'http://dx.doi.org/10.1111/1574-6968.12287', 'relation': {}, 'ISSN': ['0378-1097'], 'issn-type': [{'value': '0378-1097', 'type': 'print'}], 'subject': ['Genetics', 'Molecular Biology', 'Microbiology'], 'published': {'date-parts': [[2013, 10, 10]]}}\n"
     ]
    }
   ],
   "source": [
    "#import BfiLiterature\n",
    "from bfibundle import BfiLiterature\n",
    "\n",
    "doi_res = BfiLiterature.doi_search('https://doi.org/10.1111/1574-6968.12287')\n",
    "print(doi_res)"
   ]
  },
  {
   "attachments": {},
   "cell_type": "markdown",
   "metadata": {},
   "source": [
    "The ```keyword_search``` method is a wrapper for the SemanticScholar api that allow for a quick search of literature by keyterm. The limit is 10, a higher limit can be passed via the ```limit``` argument.\n",
    "The offset can also be increased via ```offset```.  "
   ]
  },
  {
   "cell_type": "code",
   "execution_count": 8,
   "metadata": {},
   "outputs": [
    {
     "name": "stdout",
     "output_type": "stream",
     "text": [
      "{'total': 150168, 'offset': 10, 'next': 20, 'data': [{'paperId': '911e3d3c32cc3f594eb1e83d799e687a610e38f3', 'title': 'Oxalic acid, a molecule at the crossroads of bacterial-fungal interactions.'}, {'paperId': 'fdd0d5577979ecf3230b4d71affd1bcf53f689ba', 'title': 'Bacterial–Fungal Interactions in the Kelp Endomicrobiota Drive Autoinducer-2 Quorum Sensing'}, {'paperId': 'c9f12d865379454425b6fc4a7d3f90592635091a', 'title': 'Microfluidics and Metabolomics Reveal Symbiotic Bacterial–Fungal Interactions Between Mortierella elongata and Burkholderia Include Metabolite Exchange'}, {'paperId': '16ad00ecfa24b3f740a02b0b453002a4c33942c6', 'title': 'Bacterial-Fungal Interactions: Hyphens between Agricultural, Clinical, Environmental, and Food Microbiologists'}, {'paperId': '2307e4b7d338ffb8d589efe73df15f95cf988e2f', 'title': 'Impact of Bacterial-Fungal Interactions on the Colonization of the Endosphere.'}, {'paperId': '1a7b742367bf489007f28eeea68fd0bfac341ab3', 'title': 'Medically important bacterial–fungal interactions'}, {'paperId': '4d28ce131bd0e4c7c023b1931d66947068f4945c', 'title': 'The mycosphere constitutes an arena for horizontal gene transfer with strong evolutionary implications for bacterial-fungal interactions.'}, {'paperId': 'd3112b3d423a485168a9e4443917ff2852e9bfdb', 'title': 'Probing bacterial-fungal interactions at the single cell level.'}, {'paperId': 'bd1ceadd2b4eee56ee3f6c89e353d1e98a73157c', 'title': 'Bacterial-fungal interactions enhance power generation in microbial fuel cells and drive dye decolourisation by an ex situ and in situ electro-Fenton process.'}, {'paperId': '12812c98c386296aeb69e125457afe79a2c392c5', 'title': 'Bacterial/Fungal interactions: from pathogens to mutualistic endosymbionts.'}]}\n"
     ]
    }
   ],
   "source": [
    "\n",
    "keyword_res = BfiLiterature.keyword_search(['Bacterial','Fungal','Interactions'])\n",
    "print(keyword_res)\n",
    "\n",
    "#other options\n",
    "keyword_res_limit = BfiLiterature.keyword_search(['Bacterial','Fungal','Interactions'], limit=20)\n",
    "keyword_res_limit_offset = BfiLiterature.keyword_search(['Bacterial','Fungal','Interactions'], offset=20, limit=20)\n",
    "    "
   ]
  },
  {
   "attachments": {},
   "cell_type": "markdown",
   "metadata": {},
   "source": [
    "We can also look up a paper using it's S2 id with the ```paperId_search```"
   ]
  },
  {
   "cell_type": "code",
   "execution_count": 9,
   "metadata": {},
   "outputs": [
    {
     "name": "stdout",
     "output_type": "stream",
     "text": [
      "{'paperId': '16ad00ecfa24b3f740a02b0b453002a4c33942c6', 'url': 'https://www.semanticscholar.org/paper/16ad00ecfa24b3f740a02b0b453002a4c33942c6', 'year': 2011, 'authors': [{'authorId': '1401664887', 'name': 'P. Frey-Klett'}, {'authorId': '12184874', 'name': 'P. Burlinson'}, {'authorId': '3705599', 'name': 'A. Deveau'}, {'authorId': '47831373', 'name': 'M. Barret'}, {'authorId': '7864758', 'name': 'M. Tarkka'}, {'authorId': '5299534', 'name': 'A. Sarniguet'}]}\n"
     ]
    }
   ],
   "source": [
    "id_res = BfiLiterature.paperId_search('16ad00ecfa24b3f740a02b0b453002a4c33942c6')\n",
    "print(id_res)"
   ]
  },
  {
   "attachments": {},
   "cell_type": "markdown",
   "metadata": {},
   "source": [
    "This was a lightwieght tutorial on how to use the methods available through this package. For a more in depth tutorial on how to link information between methods programatically feel free to email us. \n",
    "For feature requests, please make a PR. "
   ]
  }
 ],
 "metadata": {
  "kernelspec": {
   "display_name": "Python 3 (ipykernel)",
   "language": "python",
   "name": "python3"
  },
  "language_info": {
   "codemirror_mode": {
    "name": "ipython",
    "version": 3
   },
   "file_extension": ".py",
   "mimetype": "text/x-python",
   "name": "python",
   "nbconvert_exporter": "python",
   "pygments_lexer": "ipython3",
   "version": "3.9.12"
  },
  "orig_nbformat": 4
 },
 "nbformat": 4,
 "nbformat_minor": 2
}
